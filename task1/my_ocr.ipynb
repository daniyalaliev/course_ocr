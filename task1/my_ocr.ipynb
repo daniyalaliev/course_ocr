{
  "cells": [
    {
      "cell_type": "code",
      "execution_count": 1,
      "metadata": {
        "id": "Q7cb7kBpDTl3"
      },
      "outputs": [],
      "source": [
        "from pathlib import Path\n",
        "from tqdm import tqdm\n",
        "from matplotlib import pyplot as plt\n",
        "import numpy as np"
      ]
    },
    {
      "cell_type": "code",
      "execution_count": 2,
      "metadata": {
        "id": "alM6UyQyELmg"
      },
      "outputs": [],
      "source": [
        "import json\n",
        "from pathlib import Path\n",
        "from typing import Dict\n",
        "import numpy as np\n",
        "from shapely import geometry\n",
        "\n",
        "\n",
        "def iou_relative_quads(quad1, quad2):\n",
        "    \"\"\"\n",
        "    Вычисляет Intersection over Union между двумя четырехугольниками.\n",
        "    Четырехугольники должны быть представлены в относительном масштабе [0..1].\n",
        "    В вычислении IoU учитывается только площадь в пределах значений [0..1].\n",
        "    \"\"\"\n",
        "    quad1 = geometry.Polygon(quad1)\n",
        "    quad2 = geometry.Polygon(quad2)\n",
        "\n",
        "    # IoU вычисляется только в рамках кадра\n",
        "    frame = geometry.Polygon([\n",
        "        [0, 0],\n",
        "        [0, 1],\n",
        "        [1, 1],\n",
        "        [1, 0]\n",
        "    ])\n",
        "    if not (quad1.is_valid and quad2.is_valid):\n",
        "        return 0.0\n",
        "    try:\n",
        "        return (quad1 & quad2 & frame).area  / ((quad1 | quad2) & frame).area\n",
        "    except Exception as exc:\n",
        "        return 0.0\n",
        "\n",
        "def dump_results_dict(unique_key2quad_dict: Dict, filename: Path):\n",
        "    \"\"\"\n",
        "    Сохраняет значения словаря {\"ключ\": четырехугольник} в файл.\n",
        "    \"\"\"\n",
        "    data = dict(\n",
        "        (k, np.array(v).tolist())\n",
        "        for (k, v) in unique_key2quad_dict.items()\n",
        "    )\n",
        "    with open(filename, 'w') as f:\n",
        "        f.write(json.dumps(data))\n",
        "\n",
        "\n",
        "def read_results_dict(filename: Path):\n",
        "    \"\"\"\n",
        "    Читает значения словаря {\"ключ\": четырехугольник} из файла.\n",
        "    \"\"\"\n",
        "    with open(filename, 'r') as f:\n",
        "        return json.loads(f.read())\n",
        "\n",
        "\n",
        "def measure_crop_accuracy(\n",
        "    pred_filename: Path, gt_filename: Path,\n",
        "    assert_same_keys:bool = False, iou_thr=0.95\n",
        "    ):\n",
        "    pred = read_results_dict(pred_filename)\n",
        "    gt = read_results_dict(gt_filename)\n",
        "    if assert_same_keys:\n",
        "        assert set(pred.keys()) == set(gt.keys()), \"Keys mismatch in gt/pred dicts\"\n",
        "\n",
        "    ious = []\n",
        "    for key, gt_quad in gt.items():\n",
        "        if key in pred:\n",
        "            pred_quad = pred[key]\n",
        "            ious.append(iou_relative_quads(gt_quad, pred_quad))\n",
        "        else:\n",
        "            ious.append(0)\n",
        "    ious = np.array(ious)\n",
        "    accuracy = (ious > iou_thr).astype(int).sum() / len(ious)\n",
        "    return accuracy\n",
        "\n",
        "\n",
        "def _run_evaluation():\n",
        "    base = Path(__file__).absolute().parent.parent\n",
        "    gt_path = base / 'gt.json'\n",
        "    pred_path = base / 'pred.json'\n",
        "    score = measure_crop_accuracy(pred_path, gt_path)\n",
        "    print(\"Accuracy[IoU>0.95] = {:1.4f}\".format(score))"
      ]
    },
    {
      "cell_type": "code",
      "execution_count": 3,
      "metadata": {
        "id": "Hll5LwseD1JW"
      },
      "outputs": [],
      "source": [
        "from dataclasses import dataclass\n",
        "import json\n",
        "from pathlib import Path\n",
        "from typing import List\n",
        "import warnings\n",
        "\n",
        "import matplotlib.pyplot as plt\n",
        "from matplotlib import patches\n",
        "import numpy as np\n",
        "from PIL import Image\n",
        "\n",
        "@dataclass\n",
        "class DataItem:\n",
        "    \"\"\"\n",
        "    Изображение с разметкой-четырехугольником кропа.\n",
        "    \"\"\"\n",
        "    gt_path: Path\n",
        "    img_path: Path\n",
        "\n",
        "    @property\n",
        "    def unique_key(self):\n",
        "        return \"|\".join(self.gt_path.parts[-4:])\n",
        "\n",
        "    @property\n",
        "    def image(self) -> Image:\n",
        "        return Image.open(self.img_path)\n",
        "\n",
        "    @property\n",
        "    def gt_data(self)->dict:\n",
        "        if hasattr(self, '_gt_data'):\n",
        "            return self._gt_data\n",
        "\n",
        "        try:\n",
        "            with open(self.gt_path, 'r') as f:\n",
        "                self._gt_data = json.loads(f.read())\n",
        "        except UnicodeDecodeError as exc:\n",
        "            # в оригинальных пакетах есть в шаблонах текст в не UTF-8 кодировках, например\n",
        "            # китайский; этот текст не нужен для задания\n",
        "            warnings.warn(f\"Can't read {self.gt_path}, non unicode text\", UnicodeWarning)\n",
        "            self._gt_data = dict()\n",
        "        return self._gt_data\n",
        "\n",
        "    @property\n",
        "    def quadrangle(self)->np.array:\n",
        "        gt_data = self.gt_data\n",
        "        if 'quad' in gt_data:\n",
        "            quad = np.array(self.gt_data['quad']).astype(float)\n",
        "            quad /= self.image_size[None]\n",
        "            return quad\n",
        "        return None\n",
        "\n",
        "    @property\n",
        "    def image_size(self):\n",
        "        if not hasattr(self, '_image_size'):\n",
        "            self._image_size = np.array(self.image.size).astype(float)\n",
        "        return self._image_size\n",
        "\n",
        "    def is_correct(self) -> bool:\n",
        "        \"\"\"\n",
        "        Проверяет, существуют ли файлы изображения и разметки, и если да,\n",
        "        то есть ли в файле разметки данные четырехугольника.\n",
        "        Для разметки 'шаблона', т.е. идеально кропнутого изображения, лежащего в корне,\n",
        "        этих дданных нет, потому что quad = [(0,0), (0,w), (h,w), (0,h)].\n",
        "        \"\"\"\n",
        "        exists =  (self.gt_path.exists()) and (self.img_path.exists())\n",
        "        return exists and ('quad' in self.gt_data)\n",
        "\n",
        "    def show(self, quad01=None):\n",
        "        \"\"\"\n",
        "        Отрисовывает четырехугольник кропа поверх изображения,\n",
        "        либо quad01, либо quadrangle из разметки.\n",
        "        quad01 должен быть в относительно масштабе (min ~ 0, max ~ 1).\n",
        "        \"\"\"\n",
        "        fig, ax = plt.subplots()\n",
        "        ax.imshow(np.array(self.image))\n",
        "        if quad01 is None:\n",
        "            quad01 = self.quadrangle\n",
        "        quad = quad01 * self.image_size[None]\n",
        "        p = patches.Polygon(quad, edgecolor = 'r', fill=False)\n",
        "        ax.add_patch(p)\n",
        "\n",
        "    def is_quad_inside(self) -> bool:\n",
        "        \"\"\"\n",
        "        Находится ли четырехугольник разметки полностью внутри кадра.\n",
        "        \"\"\"\n",
        "        assert self.is_correct(), \"Incorrect item quad is undefined\"\n",
        "        return np.all(0 <= self.quadrangle) and np.all( self.quadrangle <= 1)\n",
        "\n",
        "    def is_test_split(self) -> bool:\n",
        "        \"\"\"\n",
        "        Принадлежит ли итем к test-разделу датасета.\n",
        "        Правило разделения train/test следующее:\n",
        "        - если итем принадлежит пакету с номером [44:50], то это test split\n",
        "        - если итем в последовательности имеет номера [26:30], то это test split\n",
        "        Таким образом, в тесте есть:\n",
        "        ~ 7 * 300=2100 итемов, для которых не было примеров во время тренировки\n",
        "        ~ 43 * (5/30) * 10=2150 итемов, чей которых были примеры во время тренировки\n",
        "        Всего 4150 итемов.\n",
        "        \"\"\"\n",
        "        assert self.is_correct(), \"Incorrect item split is undefined\"\n",
        "        package_num = int(self.gt_path.parent.parent.parent.name.split('_')[0])\n",
        "        sequence_num = int(self.gt_path.stem.split('_')[-1])\n",
        "\n",
        "        if 25 < sequence_num <= 30:\n",
        "            return True\n",
        "\n",
        "        if 43 < package_num <= 50:\n",
        "            return True\n",
        "        return False\n",
        "\n",
        "    def iou_with(self, pred_quad01: np.array) -> float:\n",
        "        assert self.is_correct(), \"Can't measure iou for incorrect item\"\n",
        "        return iou_relative_quads(self.quadrangle, pred_quad01)\n",
        "\n",
        "    def __repr__(self):\n",
        "        return f\"DataItem<{self.gt_path}|{self.img_path}>\"\n",
        "\n",
        "\n",
        "class MidvPackage:\n",
        "    \"\"\"\n",
        "    Один пакет данных MIDV-500.\n",
        "    Контейнер для DataItem, лежащих в одном корневом\n",
        "    \"\"\"\n",
        "    GT_SUBDIR = 'ground_truth'\n",
        "    IMG_SUBDIR = 'images'\n",
        "\n",
        "    @classmethod\n",
        "    def read_midv500_dataset(cls, dataset_root:Path)->List['MidvPackage']:\n",
        "        \"\"\"Читает весь датасет MIDV-500 (список из пакетов 50)\"\"\"\n",
        "        if not isinstance(dataset_root, Path):\n",
        "            raise TypeError(f\"Expected pathlib.Path type, got {type(dataset_root)}\")\n",
        "        package_paths = [p for p in dataset_root.glob(\"*\") if p.is_dir()]\n",
        "        return [cls(p) for p in package_paths]\n",
        "\n",
        "    def __init__(self, root: Path):\n",
        "        for subdir in (self.GT_SUBDIR, self.IMG_SUBDIR):\n",
        "            assert (root / subdir).exists(), f\"{self.root} does not contain '{subdir}'\"\n",
        "\n",
        "        self.root = root\n",
        "        self.items = self.collect_items(root)\n",
        "        self.template_item = self.collect_template(root)\n",
        "\n",
        "    @classmethod\n",
        "    def collect_items(cls, root_path: Path) -> List[DataItem]:\n",
        "        \"\"\"\n",
        "        Собирает все DataItem в пакете, кроме шаблона.\n",
        "        \"\"\"\n",
        "        items = []\n",
        "        gt_root = root_path / cls.GT_SUBDIR\n",
        "        img_root = root_path / cls.IMG_SUBDIR\n",
        "\n",
        "        gt_paths = list(gt_root.rglob(\"*.json\"))\n",
        "        img_paths = [x for x in list(img_root.rglob(\"*\")) if not x.is_dir() and not '.ipynb' in str(x)]\n",
        "\n",
        "        key = lambda x: str(x.parent / x.stem)\n",
        "        key_to_img, key_to_gt = dict(), dict()\n",
        "        for p in gt_paths:\n",
        "            key_to_gt[key(p.relative_to(gt_root))] = p\n",
        "        for p in img_paths:\n",
        "            key_to_img[key(p.relative_to(img_root))] = p\n",
        "\n",
        "        simg = set(key_to_img.keys())\n",
        "        sgt =  set(key_to_gt.keys())\n",
        "        assert simg == sgt, f\"{simg - sgt}, {sgt - simg}\"\n",
        "        for k, img_path in key_to_img.items():\n",
        "            gt_path = key_to_gt[k]\n",
        "            items.append(DataItem(gt_path=gt_path, img_path=img_path))\n",
        "        return [it for it in items if it.is_correct()]\n",
        "\n",
        "    @classmethod\n",
        "    def collect_template(cls, root_path: Path) -> DataItem:\n",
        "        \"\"\"\n",
        "        Возвращает DataItem-шаблон пакета. Не\n",
        "        \"\"\"\n",
        "        gt_path = root_path / cls.GT_SUBDIR / (root_path.name + \".json\")\n",
        "        assert gt_path.exists(), f\"Expected {gt_path} to be template gt, but it does not exist\"\n",
        "\n",
        "        img_path = None\n",
        "        for ext in (\".png\", \".tif\"):\n",
        "            _img_path = root_path / cls.IMG_SUBDIR / (root_path.name + ext)\n",
        "            if (_img_path.exists()):\n",
        "                img_path = _img_path\n",
        "        assert img_path is not None, \"Expected to find template img, but it does not exist\"\n",
        "        return DataItem(gt_path=gt_path, img_path=img_path)\n",
        "\n",
        "    def __len__(self):\n",
        "        return len(self.items)\n",
        "\n",
        "    def __getitem__(self, idx):\n",
        "        return self.items[idx]\n",
        "\n",
        "    def __repr__(self):\n",
        "        return f\"DataPackage[{self.root}]({len(self)})\""
      ]
    },
    {
      "cell_type": "markdown",
      "metadata": {
        "id": "ERSY1oUrK8ps"
      },
      "source": [
        "#  Подготовка данных"
      ]
    },
    {
      "cell_type": "code",
      "execution_count": 4,
      "metadata": {
        "colab": {
          "base_uri": "https://localhost:8080/",
          "height": 1000
        },
        "id": "eoeY5nwx5K91",
        "outputId": "ea6afdc1-6aaa-43c2-bb07-21c5ac83cc4c"
      },
      "outputs": [
        {
          "output_type": "stream",
          "name": "stdout",
          "text": [
            "Requirement already satisfied: midv500 in /usr/local/lib/python3.10/dist-packages (0.2.1)\n",
            "Requirement already satisfied: opencv-python>=3.4.8.29 in /usr/local/lib/python3.10/dist-packages (from midv500) (4.8.0.76)\n",
            "Requirement already satisfied: numpy in /usr/local/lib/python3.10/dist-packages (from midv500) (1.25.2)\n",
            "Requirement already satisfied: tqdm>=4.43.0 in /usr/local/lib/python3.10/dist-packages (from midv500) (4.66.2)\n",
            "Traceback (most recent call last):\n",
            "  File \"/usr/local/lib/python3.10/dist-packages/pip/_vendor/pkg_resources/__init__.py\", line 3108, in _dep_map\n",
            "    return self.__dep_map\n",
            "  File \"/usr/local/lib/python3.10/dist-packages/pip/_vendor/pkg_resources/__init__.py\", line 2901, in __getattr__\n",
            "    raise AttributeError(attr)\n",
            "AttributeError: _DistInfoDistribution__dep_map\n",
            "\n",
            "During handling of the above exception, another exception occurred:\n",
            "\n",
            "Traceback (most recent call last):\n",
            "  File \"/usr/local/lib/python3.10/dist-packages/pip/_internal/cli/base_command.py\", line 169, in exc_logging_wrapper\n",
            "    status = run_func(*args)\n",
            "  File \"/usr/local/lib/python3.10/dist-packages/pip/_internal/cli/req_command.py\", line 242, in wrapper\n",
            "    return func(self, options, args)\n",
            "  File \"/usr/local/lib/python3.10/dist-packages/pip/_internal/commands/install.py\", line 441, in run\n",
            "    conflicts = self._determine_conflicts(to_install)\n",
            "  File \"/usr/local/lib/python3.10/dist-packages/pip/_internal/commands/install.py\", line 572, in _determine_conflicts\n",
            "    return check_install_conflicts(to_install)\n",
            "  File \"/usr/local/lib/python3.10/dist-packages/pip/_internal/operations/check.py\", line 101, in check_install_conflicts\n",
            "    package_set, _ = create_package_set_from_installed()\n",
            "  File \"/usr/local/lib/python3.10/dist-packages/pip/_internal/operations/check.py\", line 42, in create_package_set_from_installed\n",
            "    dependencies = list(dist.iter_dependencies())\n",
            "  File \"/usr/local/lib/python3.10/dist-packages/pip/_internal/metadata/pkg_resources.py\", line 216, in iter_dependencies\n",
            "    return self._dist.requires(extras)\n",
            "  File \"/usr/local/lib/python3.10/dist-packages/pip/_vendor/pkg_resources/__init__.py\", line 2821, in requires\n",
            "    dm = self._dep_map\n",
            "  File \"/usr/local/lib/python3.10/dist-packages/pip/_vendor/pkg_resources/__init__.py\", line 3110, in _dep_map\n",
            "    self.__dep_map = self._compute_dependencies()\n",
            "  File \"/usr/local/lib/python3.10/dist-packages/pip/_vendor/pkg_resources/__init__.py\", line 3120, in _compute_dependencies\n",
            "    reqs.extend(parse_requirements(req))\n",
            "  File \"/usr/local/lib/python3.10/dist-packages/pip/_vendor/pkg_resources/__init__.py\", line 3173, in __init__\n",
            "    super(Requirement, self).__init__(requirement_string)\n",
            "  File \"/usr/local/lib/python3.10/dist-packages/pip/_vendor/packaging/requirements.py\", line 102, in __init__\n",
            "    req = REQUIREMENT.parseString(requirement_string)\n",
            "  File \"/usr/local/lib/python3.10/dist-packages/pip/_vendor/pyparsing/core.py\", line 1131, in parse_string\n",
            "    loc, tokens = self._parse(instring, 0)\n",
            "  File \"/usr/local/lib/python3.10/dist-packages/pip/_vendor/pyparsing/core.py\", line 817, in _parseNoCache\n",
            "    loc, tokens = self.parseImpl(instring, pre_loc, doActions)\n",
            "  File \"/usr/local/lib/python3.10/dist-packages/pip/_vendor/pyparsing/core.py\", line 3886, in parseImpl\n",
            "    loc, exprtokens = e._parse(instring, loc, doActions)\n",
            "  File \"/usr/local/lib/python3.10/dist-packages/pip/_vendor/pyparsing/core.py\", line 817, in _parseNoCache\n",
            "    loc, tokens = self.parseImpl(instring, pre_loc, doActions)\n",
            "  File \"/usr/local/lib/python3.10/dist-packages/pip/_vendor/pyparsing/core.py\", line 4114, in parseImpl\n",
            "    return e._parse(\n",
            "  File \"/usr/local/lib/python3.10/dist-packages/pip/_vendor/pyparsing/core.py\", line 817, in _parseNoCache\n",
            "    loc, tokens = self.parseImpl(instring, pre_loc, doActions)\n",
            "  File \"/usr/local/lib/python3.10/dist-packages/pip/_vendor/pyparsing/core.py\", line 3886, in parseImpl\n",
            "    loc, exprtokens = e._parse(instring, loc, doActions)\n",
            "  File \"/usr/local/lib/python3.10/dist-packages/pip/_vendor/pyparsing/core.py\", line 817, in _parseNoCache\n",
            "    loc, tokens = self.parseImpl(instring, pre_loc, doActions)\n",
            "  File \"/usr/local/lib/python3.10/dist-packages/pip/_vendor/pyparsing/core.py\", line 4959, in parseImpl\n",
            "    loc, tokens = self_expr._parse(instring, loc, doActions, callPreParse=False)\n",
            "  File \"/usr/local/lib/python3.10/dist-packages/pip/_vendor/pyparsing/core.py\", line 817, in _parseNoCache\n",
            "    loc, tokens = self.parseImpl(instring, pre_loc, doActions)\n",
            "  File \"/usr/local/lib/python3.10/dist-packages/pip/_vendor/pyparsing/core.py\", line 3886, in parseImpl\n",
            "    loc, exprtokens = e._parse(instring, loc, doActions)\n",
            "  File \"/usr/local/lib/python3.10/dist-packages/pip/_vendor/pyparsing/core.py\", line 856, in _parseNoCache\n",
            "    tokens = fn(instring, tokens_start, ret_tokens)\n",
            "  File \"/usr/local/lib/python3.10/dist-packages/pip/_vendor/pyparsing/core.py\", line 291, in wrapper\n",
            "    ret = func(*args[limit:])\n",
            "  File \"/usr/local/lib/python3.10/dist-packages/pip/_vendor/packaging/requirements.py\", line 71, in <lambda>\n",
            "    lambda s, l, t: Marker(s[t._original_start : t._original_end])\n",
            "  File \"/usr/local/lib/python3.10/dist-packages/pip/_vendor/packaging/markers.py\", line 278, in __init__\n",
            "    self._markers = _coerce_parse_result(MARKER.parseString(marker))\n",
            "  File \"/usr/local/lib/python3.10/dist-packages/pip/_vendor/pyparsing/core.py\", line 1131, in parse_string\n",
            "    loc, tokens = self._parse(instring, 0)\n",
            "  File \"/usr/local/lib/python3.10/dist-packages/pip/_vendor/pyparsing/core.py\", line 817, in _parseNoCache\n",
            "    loc, tokens = self.parseImpl(instring, pre_loc, doActions)\n",
            "  File \"/usr/local/lib/python3.10/dist-packages/pip/_vendor/pyparsing/core.py\", line 3886, in parseImpl\n",
            "    loc, exprtokens = e._parse(instring, loc, doActions)\n",
            "  File \"/usr/local/lib/python3.10/dist-packages/pip/_vendor/pyparsing/core.py\", line 817, in _parseNoCache\n",
            "    loc, tokens = self.parseImpl(instring, pre_loc, doActions)\n",
            "  File \"/usr/local/lib/python3.10/dist-packages/pip/_vendor/pyparsing/core.py\", line 5226, in parseImpl\n",
            "    return super().parseImpl(instring, loc, doActions)\n",
            "  File \"/usr/local/lib/python3.10/dist-packages/pip/_vendor/pyparsing/core.py\", line 4375, in parseImpl\n",
            "    return self.expr._parse(instring, loc, doActions, callPreParse=False)\n",
            "  File \"/usr/local/lib/python3.10/dist-packages/pip/_vendor/pyparsing/core.py\", line 817, in _parseNoCache\n",
            "    loc, tokens = self.parseImpl(instring, pre_loc, doActions)\n",
            "  File \"/usr/local/lib/python3.10/dist-packages/pip/_vendor/pyparsing/core.py\", line 3864, in parseImpl\n",
            "    loc, resultlist = self.exprs[0]._parse(\n",
            "  File \"/usr/local/lib/python3.10/dist-packages/pip/_vendor/pyparsing/core.py\", line 817, in _parseNoCache\n",
            "    loc, tokens = self.parseImpl(instring, pre_loc, doActions)\n",
            "  File \"/usr/local/lib/python3.10/dist-packages/pip/_vendor/pyparsing/core.py\", line 4114, in parseImpl\n",
            "    return e._parse(\n",
            "  File \"/usr/local/lib/python3.10/dist-packages/pip/_vendor/pyparsing/core.py\", line 817, in _parseNoCache\n",
            "    loc, tokens = self.parseImpl(instring, pre_loc, doActions)\n",
            "  File \"/usr/local/lib/python3.10/dist-packages/pip/_vendor/pyparsing/core.py\", line 4375, in parseImpl\n",
            "    return self.expr._parse(instring, loc, doActions, callPreParse=False)\n",
            "  File \"/usr/local/lib/python3.10/dist-packages/pip/_vendor/pyparsing/core.py\", line 817, in _parseNoCache\n",
            "    loc, tokens = self.parseImpl(instring, pre_loc, doActions)\n",
            "  File \"/usr/local/lib/python3.10/dist-packages/pip/_vendor/pyparsing/core.py\", line 3886, in parseImpl\n",
            "    loc, exprtokens = e._parse(instring, loc, doActions)\n",
            "  File \"/usr/local/lib/python3.10/dist-packages/pip/_vendor/pyparsing/core.py\", line 817, in _parseNoCache\n",
            "    loc, tokens = self.parseImpl(instring, pre_loc, doActions)\n",
            "  File \"/usr/local/lib/python3.10/dist-packages/pip/_vendor/pyparsing/core.py\", line 4114, in parseImpl\n",
            "    return e._parse(\n",
            "  File \"/usr/local/lib/python3.10/dist-packages/pip/_vendor/pyparsing/core.py\", line 817, in _parseNoCache\n",
            "    loc, tokens = self.parseImpl(instring, pre_loc, doActions)\n",
            "  File \"/usr/local/lib/python3.10/dist-packages/pip/_vendor/pyparsing/core.py\", line 4114, in parseImpl\n",
            "    return e._parse(\n",
            "  File \"/usr/local/lib/python3.10/dist-packages/pip/_vendor/pyparsing/core.py\", line 821, in _parseNoCache\n",
            "    loc, tokens = self.parseImpl(instring, pre_loc, doActions)\n",
            "  File \"/usr/local/lib/python3.10/dist-packages/pip/_vendor/pyparsing/core.py\", line 2341, in parseImpl\n",
            "    raise ParseException(instring, loc, self.errmsg, self)\n",
            "KeyboardInterrupt\n",
            "\n",
            "During handling of the above exception, another exception occurred:\n",
            "\n",
            "Traceback (most recent call last):\n",
            "  File \"/usr/local/bin/pip3\", line 8, in <module>\n",
            "    sys.exit(main())\n",
            "  File \"/usr/local/lib/python3.10/dist-packages/pip/_internal/cli/main.py\", line 79, in main\n",
            "    return command.main(cmd_args)\n",
            "  File \"/usr/local/lib/python3.10/dist-packages/pip/_internal/cli/base_command.py\", line 101, in main\n",
            "    return self._main(args)\n",
            "  File \"/usr/local/lib/python3.10/dist-packages/pip/_internal/cli/base_command.py\", line 223, in _main\n",
            "    return run(options, args)\n",
            "  File \"/usr/local/lib/python3.10/dist-packages/pip/_internal/cli/base_command.py\", line 206, in exc_logging_wrapper\n",
            "    logger.critical(\"Operation cancelled by user\")\n",
            "  File \"/usr/lib/python3.10/logging/__init__.py\", line 1524, in critical\n",
            "    self._log(CRITICAL, msg, args, **kwargs)\n",
            "  File \"/usr/lib/python3.10/logging/__init__.py\", line 1622, in _log\n",
            "    record = self.makeRecord(self.name, level, fn, lno, msg, args,\n",
            "  File \"/usr/lib/python3.10/logging/__init__.py\", line 1585, in makeRecord\n",
            "    def makeRecord(self, name, level, fn, lno, msg, args, exc_info,\n",
            "KeyboardInterrupt\n",
            "^C\n",
            "--------------------------------------------------------------\n",
            "\n",
            "Downloading: 01_alb_id.zip\n"
          ]
        },
        {
          "output_type": "stream",
          "name": "stderr",
          "text": [
            "01_alb_id.zip:   3%|▎         | 22.3M/657M [00:03<01:41, 6.24MB/s]\n"
          ]
        },
        {
          "output_type": "error",
          "ename": "KeyboardInterrupt",
          "evalue": "",
          "traceback": [
            "\u001b[0;31m---------------------------------------------------------------------------\u001b[0m",
            "\u001b[0;31mKeyboardInterrupt\u001b[0m                         Traceback (most recent call last)",
            "\u001b[0;32m<ipython-input-4-618da59dfe1b>\u001b[0m in \u001b[0;36m<cell line: 8>\u001b[0;34m()\u001b[0m\n\u001b[1;32m      6\u001b[0m \u001b[0;31m# download and unzip the base midv500 dataset\u001b[0m\u001b[0;34m\u001b[0m\u001b[0;34m\u001b[0m\u001b[0m\n\u001b[1;32m      7\u001b[0m \u001b[0mdataset_name\u001b[0m \u001b[0;34m=\u001b[0m \u001b[0;34m\"midv500\"\u001b[0m\u001b[0;34m\u001b[0m\u001b[0;34m\u001b[0m\u001b[0m\n\u001b[0;32m----> 8\u001b[0;31m \u001b[0mmidv500\u001b[0m\u001b[0;34m.\u001b[0m\u001b[0mdownload_dataset\u001b[0m\u001b[0;34m(\u001b[0m\u001b[0mdataset_dir\u001b[0m\u001b[0;34m,\u001b[0m \u001b[0mdataset_name\u001b[0m\u001b[0;34m)\u001b[0m\u001b[0;34m\u001b[0m\u001b[0;34m\u001b[0m\u001b[0m\n\u001b[0m",
            "\u001b[0;32m/usr/local/lib/python3.10/dist-packages/midv500/download_dataset.py\u001b[0m in \u001b[0;36mdownload_dataset\u001b[0;34m(download_dir, dataset_name)\u001b[0m\n\u001b[1;32m    144\u001b[0m             \u001b[0mfilename\u001b[0m \u001b[0;34m=\u001b[0m \u001b[0mlink\u001b[0m\u001b[0;34m.\u001b[0m\u001b[0msplit\u001b[0m\u001b[0;34m(\u001b[0m\u001b[0;34m\"/\"\u001b[0m\u001b[0;34m)\u001b[0m\u001b[0;34m[\u001b[0m\u001b[0;34m-\u001b[0m\u001b[0;36m1\u001b[0m\u001b[0;34m]\u001b[0m\u001b[0;34m\u001b[0m\u001b[0;34m\u001b[0m\u001b[0m\n\u001b[1;32m    145\u001b[0m             \u001b[0mprint\u001b[0m\u001b[0;34m(\u001b[0m\u001b[0;34m\"\\nDownloading:\"\u001b[0m\u001b[0;34m,\u001b[0m \u001b[0mfilename\u001b[0m\u001b[0;34m)\u001b[0m\u001b[0;34m\u001b[0m\u001b[0;34m\u001b[0m\u001b[0m\n\u001b[0;32m--> 146\u001b[0;31m             \u001b[0mdownload\u001b[0m\u001b[0;34m(\u001b[0m\u001b[0mlink\u001b[0m\u001b[0;34m,\u001b[0m \u001b[0mdst\u001b[0m\u001b[0;34m)\u001b[0m\u001b[0;34m\u001b[0m\u001b[0;34m\u001b[0m\u001b[0m\n\u001b[0m\u001b[1;32m    147\u001b[0m             \u001b[0mprint\u001b[0m\u001b[0;34m(\u001b[0m\u001b[0;34m\"Downloaded:\"\u001b[0m\u001b[0;34m,\u001b[0m \u001b[0mfilename\u001b[0m\u001b[0;34m)\u001b[0m\u001b[0;34m\u001b[0m\u001b[0;34m\u001b[0m\u001b[0m\n\u001b[1;32m    148\u001b[0m \u001b[0;34m\u001b[0m\u001b[0m\n",
            "\u001b[0;32m/usr/local/lib/python3.10/dist-packages/midv500/utils.py\u001b[0m in \u001b[0;36mdownload\u001b[0;34m(url, save_dir)\u001b[0m\n\u001b[1;32m    150\u001b[0m         \u001b[0munit\u001b[0m\u001b[0;34m=\u001b[0m\u001b[0;34m\"B\"\u001b[0m\u001b[0;34m,\u001b[0m \u001b[0munit_scale\u001b[0m\u001b[0;34m=\u001b[0m\u001b[0;32mTrue\u001b[0m\u001b[0;34m,\u001b[0m \u001b[0mminiters\u001b[0m\u001b[0;34m=\u001b[0m\u001b[0;36m1\u001b[0m\u001b[0;34m,\u001b[0m \u001b[0mdesc\u001b[0m\u001b[0;34m=\u001b[0m\u001b[0murl\u001b[0m\u001b[0;34m.\u001b[0m\u001b[0msplit\u001b[0m\u001b[0;34m(\u001b[0m\u001b[0;34m\"/\"\u001b[0m\u001b[0;34m)\u001b[0m\u001b[0;34m[\u001b[0m\u001b[0;34m-\u001b[0m\u001b[0;36m1\u001b[0m\u001b[0;34m]\u001b[0m\u001b[0;34m\u001b[0m\u001b[0;34m\u001b[0m\u001b[0m\n\u001b[1;32m    151\u001b[0m     ) as t:  # all optional kwargs\n\u001b[0;32m--> 152\u001b[0;31m         urlretrieve(\n\u001b[0m\u001b[1;32m    153\u001b[0m             \u001b[0murl\u001b[0m\u001b[0;34m,\u001b[0m\u001b[0;34m\u001b[0m\u001b[0;34m\u001b[0m\u001b[0m\n\u001b[1;32m    154\u001b[0m             \u001b[0mfilename\u001b[0m\u001b[0;34m=\u001b[0m\u001b[0mos\u001b[0m\u001b[0;34m.\u001b[0m\u001b[0mpath\u001b[0m\u001b[0;34m.\u001b[0m\u001b[0mjoin\u001b[0m\u001b[0;34m(\u001b[0m\u001b[0msave_dir\u001b[0m\u001b[0;34m,\u001b[0m \u001b[0murl\u001b[0m\u001b[0;34m.\u001b[0m\u001b[0msplit\u001b[0m\u001b[0;34m(\u001b[0m\u001b[0;34m\"/\"\u001b[0m\u001b[0;34m)\u001b[0m\u001b[0;34m[\u001b[0m\u001b[0;34m-\u001b[0m\u001b[0;36m1\u001b[0m\u001b[0;34m]\u001b[0m\u001b[0;34m)\u001b[0m\u001b[0;34m,\u001b[0m\u001b[0;34m\u001b[0m\u001b[0;34m\u001b[0m\u001b[0m\n",
            "\u001b[0;32m/usr/lib/python3.10/urllib/request.py\u001b[0m in \u001b[0;36murlretrieve\u001b[0;34m(url, filename, reporthook, data)\u001b[0m\n\u001b[1;32m    268\u001b[0m \u001b[0;34m\u001b[0m\u001b[0m\n\u001b[1;32m    269\u001b[0m             \u001b[0;32mwhile\u001b[0m \u001b[0;32mTrue\u001b[0m\u001b[0;34m:\u001b[0m\u001b[0;34m\u001b[0m\u001b[0;34m\u001b[0m\u001b[0m\n\u001b[0;32m--> 270\u001b[0;31m                 \u001b[0mblock\u001b[0m \u001b[0;34m=\u001b[0m \u001b[0mfp\u001b[0m\u001b[0;34m.\u001b[0m\u001b[0mread\u001b[0m\u001b[0;34m(\u001b[0m\u001b[0mbs\u001b[0m\u001b[0;34m)\u001b[0m\u001b[0;34m\u001b[0m\u001b[0;34m\u001b[0m\u001b[0m\n\u001b[0m\u001b[1;32m    271\u001b[0m                 \u001b[0;32mif\u001b[0m \u001b[0;32mnot\u001b[0m \u001b[0mblock\u001b[0m\u001b[0;34m:\u001b[0m\u001b[0;34m\u001b[0m\u001b[0;34m\u001b[0m\u001b[0m\n\u001b[1;32m    272\u001b[0m                     \u001b[0;32mbreak\u001b[0m\u001b[0;34m\u001b[0m\u001b[0;34m\u001b[0m\u001b[0m\n",
            "\u001b[0;32m/usr/lib/python3.10/tempfile.py\u001b[0m in \u001b[0;36mfunc_wrapper\u001b[0;34m(*args, **kwargs)\u001b[0m\n\u001b[1;32m    620\u001b[0m             \u001b[0;34m@\u001b[0m\u001b[0m_functools\u001b[0m\u001b[0;34m.\u001b[0m\u001b[0mwraps\u001b[0m\u001b[0;34m(\u001b[0m\u001b[0mfunc\u001b[0m\u001b[0;34m)\u001b[0m\u001b[0;34m\u001b[0m\u001b[0;34m\u001b[0m\u001b[0m\n\u001b[1;32m    621\u001b[0m             \u001b[0;32mdef\u001b[0m \u001b[0mfunc_wrapper\u001b[0m\u001b[0;34m(\u001b[0m\u001b[0;34m*\u001b[0m\u001b[0margs\u001b[0m\u001b[0;34m,\u001b[0m \u001b[0;34m**\u001b[0m\u001b[0mkwargs\u001b[0m\u001b[0;34m)\u001b[0m\u001b[0;34m:\u001b[0m\u001b[0;34m\u001b[0m\u001b[0;34m\u001b[0m\u001b[0m\n\u001b[0;32m--> 622\u001b[0;31m                 \u001b[0;32mreturn\u001b[0m \u001b[0mfunc\u001b[0m\u001b[0;34m(\u001b[0m\u001b[0;34m*\u001b[0m\u001b[0margs\u001b[0m\u001b[0;34m,\u001b[0m \u001b[0;34m**\u001b[0m\u001b[0mkwargs\u001b[0m\u001b[0;34m)\u001b[0m\u001b[0;34m\u001b[0m\u001b[0;34m\u001b[0m\u001b[0m\n\u001b[0m\u001b[1;32m    623\u001b[0m             \u001b[0;31m# Avoid closing the file as long as the wrapper is alive,\u001b[0m\u001b[0;34m\u001b[0m\u001b[0;34m\u001b[0m\u001b[0m\n\u001b[1;32m    624\u001b[0m             \u001b[0;31m# see issue #18879.\u001b[0m\u001b[0;34m\u001b[0m\u001b[0;34m\u001b[0m\u001b[0m\n",
            "\u001b[0;32m/usr/lib/python3.10/tempfile.py\u001b[0m in \u001b[0;36mfunc_wrapper\u001b[0;34m(*args, **kwargs)\u001b[0m\n\u001b[1;32m    620\u001b[0m             \u001b[0;34m@\u001b[0m\u001b[0m_functools\u001b[0m\u001b[0;34m.\u001b[0m\u001b[0mwraps\u001b[0m\u001b[0;34m(\u001b[0m\u001b[0mfunc\u001b[0m\u001b[0;34m)\u001b[0m\u001b[0;34m\u001b[0m\u001b[0;34m\u001b[0m\u001b[0m\n\u001b[1;32m    621\u001b[0m             \u001b[0;32mdef\u001b[0m \u001b[0mfunc_wrapper\u001b[0m\u001b[0;34m(\u001b[0m\u001b[0;34m*\u001b[0m\u001b[0margs\u001b[0m\u001b[0;34m,\u001b[0m \u001b[0;34m**\u001b[0m\u001b[0mkwargs\u001b[0m\u001b[0;34m)\u001b[0m\u001b[0;34m:\u001b[0m\u001b[0;34m\u001b[0m\u001b[0;34m\u001b[0m\u001b[0m\n\u001b[0;32m--> 622\u001b[0;31m                 \u001b[0;32mreturn\u001b[0m \u001b[0mfunc\u001b[0m\u001b[0;34m(\u001b[0m\u001b[0;34m*\u001b[0m\u001b[0margs\u001b[0m\u001b[0;34m,\u001b[0m \u001b[0;34m**\u001b[0m\u001b[0mkwargs\u001b[0m\u001b[0;34m)\u001b[0m\u001b[0;34m\u001b[0m\u001b[0;34m\u001b[0m\u001b[0m\n\u001b[0m\u001b[1;32m    623\u001b[0m             \u001b[0;31m# Avoid closing the file as long as the wrapper is alive,\u001b[0m\u001b[0;34m\u001b[0m\u001b[0;34m\u001b[0m\u001b[0m\n\u001b[1;32m    624\u001b[0m             \u001b[0;31m# see issue #18879.\u001b[0m\u001b[0;34m\u001b[0m\u001b[0;34m\u001b[0m\u001b[0m\n",
            "\u001b[0;32m/usr/lib/python3.10/socket.py\u001b[0m in \u001b[0;36mreadinto\u001b[0;34m(self, b)\u001b[0m\n\u001b[1;32m    703\u001b[0m         \u001b[0;32mwhile\u001b[0m \u001b[0;32mTrue\u001b[0m\u001b[0;34m:\u001b[0m\u001b[0;34m\u001b[0m\u001b[0;34m\u001b[0m\u001b[0m\n\u001b[1;32m    704\u001b[0m             \u001b[0;32mtry\u001b[0m\u001b[0;34m:\u001b[0m\u001b[0;34m\u001b[0m\u001b[0;34m\u001b[0m\u001b[0m\n\u001b[0;32m--> 705\u001b[0;31m                 \u001b[0;32mreturn\u001b[0m \u001b[0mself\u001b[0m\u001b[0;34m.\u001b[0m\u001b[0m_sock\u001b[0m\u001b[0;34m.\u001b[0m\u001b[0mrecv_into\u001b[0m\u001b[0;34m(\u001b[0m\u001b[0mb\u001b[0m\u001b[0;34m)\u001b[0m\u001b[0;34m\u001b[0m\u001b[0;34m\u001b[0m\u001b[0m\n\u001b[0m\u001b[1;32m    706\u001b[0m             \u001b[0;32mexcept\u001b[0m \u001b[0mtimeout\u001b[0m\u001b[0;34m:\u001b[0m\u001b[0;34m\u001b[0m\u001b[0;34m\u001b[0m\u001b[0m\n\u001b[1;32m    707\u001b[0m                 \u001b[0mself\u001b[0m\u001b[0;34m.\u001b[0m\u001b[0m_timeout_occurred\u001b[0m \u001b[0;34m=\u001b[0m \u001b[0;32mTrue\u001b[0m\u001b[0;34m\u001b[0m\u001b[0;34m\u001b[0m\u001b[0m\n",
            "\u001b[0;31mKeyboardInterrupt\u001b[0m: "
          ]
        }
      ],
      "source": [
        "!pip install midv500\n",
        "import midv500\n",
        "# set directory for dataset to be downloaded\n",
        "dataset_dir = 'midv500_data/'\n",
        "\n",
        "# download and unzip the base midv500 dataset\n",
        "dataset_name = \"midv500\"\n",
        "midv500.download_dataset(dataset_dir, dataset_name)"
      ]
    },
    {
      "cell_type": "code",
      "source": [
        "import pathlib\n",
        "data_packs = MidvPackage.read_midv500_dataset(pathlib.Path('/content/midv500_data/midv500'))"
      ],
      "metadata": {
        "id": "GX4CaxiTspW7"
      },
      "execution_count": 4,
      "outputs": []
    },
    {
      "cell_type": "code",
      "source": [
        "data_packs[0][0].quadrangle.shape"
      ],
      "metadata": {
        "colab": {
          "base_uri": "https://localhost:8080/"
        },
        "id": "rx4b4vwLtOA7",
        "outputId": "4d4ce9bd-8069-45cd-ef5e-8de96f40e6f2"
      },
      "execution_count": 5,
      "outputs": [
        {
          "output_type": "execute_result",
          "data": {
            "text/plain": [
              "(4, 2)"
            ]
          },
          "metadata": {},
          "execution_count": 5
        }
      ]
    },
    {
      "cell_type": "code",
      "execution_count": 6,
      "metadata": {
        "colab": {
          "base_uri": "https://localhost:8080/"
        },
        "id": "XE_nq_svdHlH",
        "outputId": "5a3610de-7e60-46cf-9fba-10fd2cc3cc4d"
      },
      "outputs": [
        {
          "output_type": "stream",
          "name": "stderr",
          "text": [
            "100%|██████████| 50/50 [00:07<00:00,  6.86it/s]\n"
          ]
        }
      ],
      "source": [
        "train_imgs = []\n",
        "test_imgs = []\n",
        "\n",
        "for item in tqdm(data_packs):\n",
        "    for i in range(len(item)):\n",
        "        if item[i].quadrangle.shape != (4, 2):\n",
        "          continue\n",
        "        if not item[i].is_test_split():\n",
        "            train_imgs.append(item[i])\n",
        "        else:\n",
        "            test_imgs.append(item[i])"
      ]
    },
    {
      "cell_type": "code",
      "source": [
        "import albumentations as A\n",
        "\n",
        "test_transform = A.Compose(\n",
        "    [\n",
        "     A.Resize(256, 256),\n",
        "     A.Normalize(mean=(0.485, 0.456, 0.406), std=(0.229, 0.224, 0.225))],\n",
        "    keypoint_params=A.KeypointParams(format='xy')\n",
        ")"
      ],
      "metadata": {
        "id": "yt4GGeJXCNuk"
      },
      "execution_count": 7,
      "outputs": []
    },
    {
      "cell_type": "code",
      "source": [
        "import torch\n",
        "import numpy as np\n",
        "import scipy.ndimage as ndimage\n",
        "\n",
        "# функция применения гауссового фильтра вокруг точек, для более корректной работы классификации\n",
        "def gaussian_fade(image, sigma=2):\n",
        "    image_np = image.numpy()\n",
        "\n",
        "    output = np.zeros_like(image_np)\n",
        "\n",
        "    for i in range(1):\n",
        "        channel = image_np[i]\n",
        "\n",
        "        points = channel == 1\n",
        "\n",
        "        faded_channel = np.zeros_like(channel)\n",
        "\n",
        "        for y, x in np.argwhere(points):\n",
        "            temp_img = np.zeros_like(channel)\n",
        "            temp_img[y, x] = 1\n",
        "            blurred = ndimage.gaussian_filter(temp_img, sigma=sigma, mode='constant', cval=0)\n",
        "            faded_channel = np.maximum(faded_channel, blurred)\n",
        "\n",
        "        output[i] = faded_channel\n",
        "\n",
        "    return torch.from_numpy(output)\n"
      ],
      "metadata": {
        "id": "j4SimFD_OGeX"
      },
      "execution_count": 8,
      "outputs": []
    },
    {
      "cell_type": "code",
      "execution_count": 9,
      "metadata": {
        "id": "W_0Q_9vuch1f"
      },
      "outputs": [],
      "source": [
        "from torch.utils.data import Dataset, DataLoader\n",
        "import torchvision.transforms as transforms\n",
        "import albumentations as A\n",
        "import torch\n",
        "\n",
        "class MidvDataset(Dataset):\n",
        "  def __init__(self, items, transform=None):\n",
        "    self.transform = transform\n",
        "    self.items = items\n",
        "\n",
        "  def __len__(self):\n",
        "    return len(self.items)\n",
        "\n",
        "  def __getitem__(self, idx):\n",
        "\n",
        "    img, target = np.array(self.items[idx].image).astype(np.uint8), self.items[idx].quadrangle\n",
        "    target[:, 0] = np.clip(target[:, 0], 0, 1)\n",
        "    target[:, 1] = np.clip(target[:, 1], 0, 1)\n",
        "    target *= [255, 255]\n",
        "    res = np.zeros((256, 256, 1))\n",
        "    for x, y in target:\n",
        "      res[int(y), int(x), :] = 1\n",
        "\n",
        "    trans = self.transform(image=np.array(img), keypoints=target)\n",
        "    return torch.tensor(trans['image']).permute(2, 0, 1), gaussian_fade(torch.tensor(res).permute(2, 0, 1))"
      ]
    },
    {
      "cell_type": "code",
      "execution_count": 10,
      "metadata": {
        "id": "wgx795GtfTvI"
      },
      "outputs": [],
      "source": [
        "train_transform = A.Compose(\n",
        "    [\n",
        "        A.Resize(256, 256),\n",
        "        A.RGBShift(r_shift_limit=15, g_shift_limit=15, b_shift_limit=15, p=0.5),\n",
        "        A.RandomBrightnessContrast(brightness_limit=0.1, contrast_limit=0.1, p=0.5),\n",
        "        A.Normalize(mean=(0.485, 0.456, 0.406), std=(0.229, 0.224, 0.225)),\n",
        "    ], keypoint_params=A.KeypointParams(format='xy')\n",
        ")\n",
        "\n",
        "test_transform = A.Compose(\n",
        "    [\n",
        "     A.Resize(256, 256),\n",
        "     A.Normalize(mean=(0.485, 0.456, 0.406), std=(0.229, 0.224, 0.225))],\n",
        "    keypoint_params=A.KeypointParams(format='xy')\n",
        ")"
      ]
    },
    {
      "cell_type": "code",
      "execution_count": 11,
      "metadata": {
        "colab": {
          "base_uri": "https://localhost:8080/",
          "height": 489
        },
        "id": "ejUWvReqptAx",
        "outputId": "3725470a-cb42-4b7c-af93-6babd29b012f"
      },
      "outputs": [
        {
          "output_type": "stream",
          "name": "stderr",
          "text": [
            "WARNING:matplotlib.image:Clipping input data to the valid range for imshow with RGB data ([0..1] for floats or [0..255] for integers).\n"
          ]
        },
        {
          "output_type": "execute_result",
          "data": {
            "text/plain": [
              "<matplotlib.image.AxesImage at 0x7f7065e63190>"
            ]
          },
          "metadata": {},
          "execution_count": 11
        },
        {
          "output_type": "display_data",
          "data": {
            "text/plain": [
              "<Figure size 640x480 with 1 Axes>"
            ],
            "image/png": "[encoded data removed]"
          },
          "metadata": {}
        }
      ],
      "source": [
        "train_dataset = MidvDataset(train_imgs, train_transform)\n",
        "test_dataset = MidvDataset(test_imgs, test_transform)\n",
        "item = train_dataset[40]\n",
        "plt.imshow(item[0].permute(1, 2, 0))"
      ]
    },
    {
      "cell_type": "code",
      "source": [
        "plt.imshow(item[1].permute(1, 2, 0))"
      ],
      "metadata": {
        "colab": {
          "base_uri": "https://localhost:8080/",
          "height": 452
        },
        "id": "lDNg3ULbQo2W",
        "outputId": "5628b524-4140-4f3f-a9d6-848f47b2939d"
      },
      "execution_count": 12,
      "outputs": [
        {
          "output_type": "execute_result",
          "data": {
            "text/plain": [
              "<matplotlib.image.AxesImage at 0x7fb385da98a0>"
            ]
          },
          "metadata": {},
          "execution_count": 12
        },
        {
          "output_type": "display_data",
          "data": {
            "text/plain": [
              "<Figure size 640x480 with 1 Axes>"
            ],
            "image/png": "[encoded data removed]"
          },
          "metadata": {}
        }
      ]
    },
    {
      "cell_type": "code",
      "execution_count": 12,
      "metadata": {
        "id": "FprZKuQ1faij"
      },
      "outputs": [],
      "source": [
        "train_dataloader = DataLoader(train_dataset, batch_size=50, shuffle=True)\n",
        "test_dataloader = DataLoader(test_dataset, batch_size=50, shuffle=False)"
      ]
    },
    {
      "cell_type": "markdown",
      "metadata": {
        "id": "ZkdDPM8-LBcn"
      },
      "source": [
        "# Модель\n",
        "\n",
        "Возьму в качестве базовой модель UNET"
      ]
    },
    {
      "cell_type": "code",
      "execution_count": 13,
      "metadata": {
        "id": "lME2OYXlEXrE"
      },
      "outputs": [],
      "source": [
        "import torch\n",
        "import torch.nn as nn\n",
        "from torchvision import models\n",
        "import torch.nn.functional as F\n",
        "\n",
        "def conv_block(in_ch, out_ch):\n",
        "    return nn.Sequential(\n",
        "        nn.Conv2d(in_ch, out_ch, 3, padding=1),\n",
        "        nn.BatchNorm2d(out_ch),\n",
        "        nn.ReLU(inplace=True),\n",
        "        nn.Conv2d(out_ch, out_ch, 3, padding=1),\n",
        "        nn.BatchNorm2d(out_ch),\n",
        "        nn.ReLU(inplace=True),\n",
        "    )\n",
        "\n",
        "def pool():\n",
        "    return nn.MaxPool2d(2)\n",
        "\n",
        "def upconv(in_ch, out_ch):\n",
        "    return nn.Sequential(\n",
        "        nn.ConvTranspose2d(in_ch, out_ch, 2, stride=2),\n",
        "        nn.BatchNorm2d(out_ch),\n",
        "        nn.ReLU(inplace=True)\n",
        "    )\n",
        "\n",
        "# UNet model with concise structure\n",
        "class UNet(nn.Module):\n",
        "    def __init__(self, n_ch, n_cls):\n",
        "        super(UNet, self).__init__()\n",
        "        self.d1 = conv_block(n_ch, 64)\n",
        "        self.d2 = conv_block(64, 128)\n",
        "        self.d3 = conv_block(128, 256)\n",
        "        self.d4 = conv_block(256, 512)\n",
        "        self.d5 = conv_block(512, 1024)\n",
        "        self.pool = pool()\n",
        "\n",
        "        self.drop = nn.Dropout(0.3)\n",
        "\n",
        "        self.u6 = upconv(1024, 512)\n",
        "        self.u7 = upconv(512, 256)\n",
        "        self.u8 = upconv(256, 128)\n",
        "        self.u9 = upconv(128, 64)\n",
        "        self.e6 = conv_block(1024, 512)\n",
        "        self.e7 = conv_block(512, 256)\n",
        "        self.e8 = conv_block(256, 128)\n",
        "        self.e9 = conv_block(128, 64)\n",
        "\n",
        "        self.final = nn.Conv2d(64, n_cls, 1)\n",
        "        for m in self.modules():\n",
        "            if isinstance(m, nn.Conv2d):\n",
        "                nn.init.kaiming_normal_(m.weight, a=0, mode='fan_out')\n",
        "                if m.bias is not None:\n",
        "                    nn.init.constant_(m.bias, 0)\n",
        "\n",
        "\n",
        "\n",
        "    def forward(self, x):\n",
        "        c1 = self.d1(x)\n",
        "        p1 = self.pool(c1)\n",
        "        c2 = self.d2(p1)\n",
        "        p2 = self.pool(c2)\n",
        "        c3 = self.d3(p2)\n",
        "        p3 = self.pool(c3)\n",
        "        c4 = self.d4(p3)\n",
        "        p4 = self.pool(c4)\n",
        "        c5 = self.d5(p4)\n",
        "\n",
        "        c5 = self.drop(c5)\n",
        "\n",
        "        u6 = self.u6(c5)\n",
        "        c6 = self.e6(torch.cat([u6, c4], 1))\n",
        "        c6 = self.drop(c6)\n",
        "        u7 = self.u7(c6)\n",
        "        c7 = self.e7(torch.cat([u7, c3], 1))\n",
        "        u8 = self.u8(c7)\n",
        "        c8 = self.e8(torch.cat([u8, c2], 1))\n",
        "        u9 = self.u9(c8)\n",
        "        c9 = self.e9(torch.cat([u9, c1], 1))\n",
        "\n",
        "        out = self.final(c9)\n",
        "        return F.softmax(out.view(out.size(0), out.size(1), -1), dim=-1).view(out.size(0), out.size(1), 256, 256)\n"
      ]
    },
    {
      "cell_type": "code",
      "source": [
        "torch.randn(2, 1, 3, 3)"
      ],
      "metadata": {
        "colab": {
          "base_uri": "https://localhost:8080/"
        },
        "id": "yFw8K4pOZlfK",
        "outputId": "94fd1a64-87d9-49f0-e4e4-368e1d03f533"
      },
      "execution_count": 18,
      "outputs": [
        {
          "output_type": "execute_result",
          "data": {
            "text/plain": [
              "tensor([[[[-1.6575,  0.6982, -0.1708],\n",
              "          [-1.1533, -0.8998, -0.5510],\n",
              "          [-0.5188,  0.7084, -1.1676]]],\n",
              "\n",
              "\n",
              "        [[[-0.4205,  1.3742,  0.4999],\n",
              "          [ 0.6823, -0.9742, -0.7622],\n",
              "          [ 0.4748,  2.0537,  0.0654]]]])"
            ]
          },
          "metadata": {},
          "execution_count": 18
        }
      ]
    },
    {
      "cell_type": "code",
      "execution_count": 15,
      "metadata": {
        "id": "9AkNCm54Z14B"
      },
      "outputs": [],
      "source": [
        "model = UNet(3, 1).cuda()\n",
        "# with torch.no_grad():\n",
        "  # print(model(next(iter(train_dataloader))[0].cuda()).shape)"
      ]
    },
    {
      "cell_type": "code",
      "source": [
        "import torch\n",
        "torch.cuda.empty_cache()"
      ],
      "metadata": {
        "id": "2jdyjRe7wY_X"
      },
      "execution_count": 41,
      "outputs": []
    },
    {
      "cell_type": "markdown",
      "source": [
        "# Обучение модели"
      ],
      "metadata": {
        "id": "J_A9SY0gm1-1"
      }
    },
    {
      "cell_type": "code",
      "source": [
        "from re import VERBOSE\n",
        "epochs = 5\n",
        "# model = UNet(3, 1).cuda()\n",
        "optimizer = torch.optim.Adam(model.parameters(), lr=1e-5)\n",
        "scheduler = torch.optim.lr_scheduler.StepLR(optimizer, step_size=1, gamma=0.5)\n",
        "loss_fn = nn.BCELoss(reduction='mean')\n",
        "losses_train =[]\n",
        "losses_test =[]\n",
        "\n",
        "for i in range(epochs):\n",
        "    loss_ep_train = 0\n",
        "    pred_ep_train = 0\n",
        "\n",
        "    loss_ep_test = 0\n",
        "    pred_ep_test = 0\n",
        "    model.train()\n",
        "\n",
        "    for x, y in tqdm(train_dataloader):\n",
        "        pred = model(x.cuda())\n",
        "        loss = loss_fn(pred.float(), y.cuda().float())\n",
        "        optimizer.zero_grad()\n",
        "        loss.backward()\n",
        "        optimizer.step()\n",
        "        loss_ep_train += loss\n",
        "        print(loss * 256**2)\n",
        "\n",
        "    scheduler.step()\n",
        "    print(scheduler.get_last_lr())\n",
        "    model.eval()\n",
        "    for x, y in tqdm(test_dataloader):\n",
        "        with torch.no_grad():\n",
        "            pred = model(x.cuda())\n",
        "            loss = loss_fn(pred.float(), y.cuda().float())\n",
        "            loss_ep_test += loss\n",
        "\n",
        "    losses_train.append(loss_ep_train.item())\n",
        "    losses_test.append(loss_ep_test.item())\n",
        "\n",
        "    print(losses_train[-1], losses_test[-1])"
      ],
      "metadata": {
        "colab": {
          "base_uri": "https://localhost:8080/",
          "height": 724
        },
        "id": "KC1seJGxUnHk",
        "outputId": "1fa77d5f-bddc-42e6-f02d-eb724dd6802a"
      },
      "execution_count": 294,
      "outputs": [
        {
          "output_type": "stream",
          "name": "stderr",
          "text": [
            "  0%|          | 1/215 [00:03<11:13,  3.15s/it]"
          ]
        },
        {
          "output_type": "stream",
          "name": "stdout",
          "text": [
            "tensor(22.4395, device='cuda:0', grad_fn=<MulBackward0>)\n"
          ]
        },
        {
          "output_type": "stream",
          "name": "stderr",
          "text": [
            "\r  1%|          | 2/215 [00:06<11:00,  3.10s/it]"
          ]
        },
        {
          "output_type": "stream",
          "name": "stdout",
          "text": [
            "tensor(21.9624, device='cuda:0', grad_fn=<MulBackward0>)\n"
          ]
        },
        {
          "output_type": "stream",
          "name": "stderr",
          "text": [
            "\r  1%|▏         | 3/215 [00:09<11:01,  3.12s/it]"
          ]
        },
        {
          "output_type": "stream",
          "name": "stdout",
          "text": [
            "tensor(21.4075, device='cuda:0', grad_fn=<MulBackward0>)\n"
          ]
        },
        {
          "output_type": "stream",
          "name": "stderr",
          "text": [
            "\r  2%|▏         | 4/215 [00:12<10:52,  3.09s/it]"
          ]
        },
        {
          "output_type": "stream",
          "name": "stdout",
          "text": [
            "tensor(22.2981, device='cuda:0', grad_fn=<MulBackward0>)\n"
          ]
        },
        {
          "output_type": "stream",
          "name": "stderr",
          "text": [
            "\r  2%|▏         | 5/215 [00:15<10:47,  3.09s/it]"
          ]
        },
        {
          "output_type": "stream",
          "name": "stdout",
          "text": [
            "tensor(22.2014, device='cuda:0', grad_fn=<MulBackward0>)\n"
          ]
        },
        {
          "output_type": "stream",
          "name": "stderr",
          "text": [
            "\r  3%|▎         | 6/215 [00:18<10:46,  3.09s/it]"
          ]
        },
        {
          "output_type": "stream",
          "name": "stdout",
          "text": [
            "tensor(21.0974, device='cuda:0', grad_fn=<MulBackward0>)\n"
          ]
        },
        {
          "output_type": "stream",
          "name": "stderr",
          "text": [
            "\r  3%|▎         | 7/215 [00:21<10:41,  3.08s/it]"
          ]
        },
        {
          "output_type": "stream",
          "name": "stdout",
          "text": [
            "tensor(22.3300, device='cuda:0', grad_fn=<MulBackward0>)\n"
          ]
        },
        {
          "output_type": "stream",
          "name": "stderr",
          "text": [
            "\r  4%|▎         | 8/215 [00:24<10:35,  3.07s/it]"
          ]
        },
        {
          "output_type": "stream",
          "name": "stdout",
          "text": [
            "tensor(21.7900, device='cuda:0', grad_fn=<MulBackward0>)\n"
          ]
        },
        {
          "output_type": "stream",
          "name": "stderr",
          "text": [
            "\r  4%|▍         | 9/215 [00:27<10:38,  3.10s/it]"
          ]
        },
        {
          "output_type": "stream",
          "name": "stdout",
          "text": [
            "tensor(22.5168, device='cuda:0', grad_fn=<MulBackward0>)\n"
          ]
        },
        {
          "output_type": "stream",
          "name": "stderr",
          "text": [
            "\r  5%|▍         | 10/215 [00:30<10:36,  3.10s/it]"
          ]
        },
        {
          "output_type": "stream",
          "name": "stdout",
          "text": [
            "tensor(21.7587, device='cuda:0', grad_fn=<MulBackward0>)\n"
          ]
        },
        {
          "output_type": "stream",
          "name": "stderr",
          "text": [
            "\r  5%|▌         | 11/215 [00:34<10:34,  3.11s/it]"
          ]
        },
        {
          "output_type": "stream",
          "name": "stdout",
          "text": [
            "tensor(22.7363, device='cuda:0', grad_fn=<MulBackward0>)\n"
          ]
        },
        {
          "output_type": "stream",
          "name": "stderr",
          "text": [
            "\r  6%|▌         | 12/215 [00:37<10:30,  3.11s/it]"
          ]
        },
        {
          "output_type": "stream",
          "name": "stdout",
          "text": [
            "tensor(22.2583, device='cuda:0', grad_fn=<MulBackward0>)\n"
          ]
        },
        {
          "output_type": "stream",
          "name": "stderr",
          "text": [
            "\r  6%|▌         | 13/215 [00:40<10:28,  3.11s/it]"
          ]
        },
        {
          "output_type": "stream",
          "name": "stdout",
          "text": [
            "tensor(21.8935, device='cuda:0', grad_fn=<MulBackward0>)\n"
          ]
        },
        {
          "output_type": "stream",
          "name": "stderr",
          "text": [
            "\r  7%|▋         | 14/215 [00:43<10:31,  3.14s/it]"
          ]
        },
        {
          "output_type": "stream",
          "name": "stdout",
          "text": [
            "tensor(21.4873, device='cuda:0', grad_fn=<MulBackward0>)\n"
          ]
        },
        {
          "output_type": "stream",
          "name": "stderr",
          "text": [
            "\r  7%|▋         | 15/215 [00:46<10:26,  3.13s/it]"
          ]
        },
        {
          "output_type": "stream",
          "name": "stdout",
          "text": [
            "tensor(22.2243, device='cuda:0', grad_fn=<MulBackward0>)\n"
          ]
        },
        {
          "output_type": "stream",
          "name": "stderr",
          "text": [
            "\r  7%|▋         | 16/215 [00:49<10:26,  3.15s/it]"
          ]
        },
        {
          "output_type": "stream",
          "name": "stdout",
          "text": [
            "tensor(21.5196, device='cuda:0', grad_fn=<MulBackward0>)\n"
          ]
        },
        {
          "output_type": "stream",
          "name": "stderr",
          "text": [
            "\r  8%|▊         | 17/215 [00:53<10:25,  3.16s/it]"
          ]
        },
        {
          "output_type": "stream",
          "name": "stdout",
          "text": [
            "tensor(21.7804, device='cuda:0', grad_fn=<MulBackward0>)\n"
          ]
        },
        {
          "output_type": "stream",
          "name": "stderr",
          "text": [
            "\r  8%|▊         | 18/215 [00:56<10:23,  3.16s/it]"
          ]
        },
        {
          "output_type": "stream",
          "name": "stdout",
          "text": [
            "tensor(22.5675, device='cuda:0', grad_fn=<MulBackward0>)\n"
          ]
        },
        {
          "output_type": "stream",
          "name": "stderr",
          "text": [
            "\r  9%|▉         | 19/215 [00:59<10:14,  3.13s/it]"
          ]
        },
        {
          "output_type": "stream",
          "name": "stdout",
          "text": [
            "tensor(21.6042, device='cuda:0', grad_fn=<MulBackward0>)\n"
          ]
        },
        {
          "output_type": "stream",
          "name": "stderr",
          "text": [
            "\r  9%|▉         | 20/215 [01:02<10:07,  3.11s/it]"
          ]
        },
        {
          "output_type": "stream",
          "name": "stdout",
          "text": [
            "tensor(22.1129, device='cuda:0', grad_fn=<MulBackward0>)\n"
          ]
        },
        {
          "output_type": "stream",
          "name": "stderr",
          "text": [
            "\r 10%|▉         | 21/215 [01:05<10:03,  3.11s/it]"
          ]
        },
        {
          "output_type": "stream",
          "name": "stdout",
          "text": [
            "tensor(21.6129, device='cuda:0', grad_fn=<MulBackward0>)\n"
          ]
        },
        {
          "output_type": "stream",
          "name": "stderr",
          "text": [
            "\r 10%|▉         | 21/215 [01:06<10:18,  3.19s/it]\n"
          ]
        },
        {
          "output_type": "error",
          "ename": "KeyboardInterrupt",
          "evalue": "",
          "traceback": [
            "\u001b[0;31m---------------------------------------------------------------------------\u001b[0m",
            "\u001b[0;31mKeyboardInterrupt\u001b[0m                         Traceback (most recent call last)",
            "\u001b[0;32m<ipython-input-294-337892f90fd7>\u001b[0m in \u001b[0;36m<cell line: 10>\u001b[0;34m()\u001b[0m\n\u001b[1;32m     16\u001b[0m     \u001b[0mmodel\u001b[0m\u001b[0;34m.\u001b[0m\u001b[0mtrain\u001b[0m\u001b[0;34m(\u001b[0m\u001b[0;34m)\u001b[0m\u001b[0;34m\u001b[0m\u001b[0;34m\u001b[0m\u001b[0m\n\u001b[1;32m     17\u001b[0m \u001b[0;34m\u001b[0m\u001b[0m\n\u001b[0;32m---> 18\u001b[0;31m     \u001b[0;32mfor\u001b[0m \u001b[0mx\u001b[0m\u001b[0;34m,\u001b[0m \u001b[0my\u001b[0m \u001b[0;32min\u001b[0m \u001b[0mtqdm\u001b[0m\u001b[0;34m(\u001b[0m\u001b[0mtrain_dataloader\u001b[0m\u001b[0;34m)\u001b[0m\u001b[0;34m:\u001b[0m\u001b[0;34m\u001b[0m\u001b[0;34m\u001b[0m\u001b[0m\n\u001b[0m\u001b[1;32m     19\u001b[0m         \u001b[0mpred\u001b[0m \u001b[0;34m=\u001b[0m \u001b[0mmodel\u001b[0m\u001b[0;34m(\u001b[0m\u001b[0mx\u001b[0m\u001b[0;34m.\u001b[0m\u001b[0mcuda\u001b[0m\u001b[0;34m(\u001b[0m\u001b[0;34m)\u001b[0m\u001b[0;34m)\u001b[0m\u001b[0;34m\u001b[0m\u001b[0;34m\u001b[0m\u001b[0m\n\u001b[1;32m     20\u001b[0m         \u001b[0mloss\u001b[0m \u001b[0;34m=\u001b[0m \u001b[0mloss_fn\u001b[0m\u001b[0;34m(\u001b[0m\u001b[0mpred\u001b[0m\u001b[0;34m.\u001b[0m\u001b[0mfloat\u001b[0m\u001b[0;34m(\u001b[0m\u001b[0;34m)\u001b[0m\u001b[0;34m,\u001b[0m \u001b[0my\u001b[0m\u001b[0;34m.\u001b[0m\u001b[0mcuda\u001b[0m\u001b[0;34m(\u001b[0m\u001b[0;34m)\u001b[0m\u001b[0;34m.\u001b[0m\u001b[0mfloat\u001b[0m\u001b[0;34m(\u001b[0m\u001b[0;34m)\u001b[0m\u001b[0;34m)\u001b[0m\u001b[0;34m\u001b[0m\u001b[0;34m\u001b[0m\u001b[0m\n",
            "\u001b[0;32m/usr/local/lib/python3.10/dist-packages/tqdm/std.py\u001b[0m in \u001b[0;36m__iter__\u001b[0;34m(self)\u001b[0m\n\u001b[1;32m   1179\u001b[0m \u001b[0;34m\u001b[0m\u001b[0m\n\u001b[1;32m   1180\u001b[0m         \u001b[0;32mtry\u001b[0m\u001b[0;34m:\u001b[0m\u001b[0;34m\u001b[0m\u001b[0;34m\u001b[0m\u001b[0m\n\u001b[0;32m-> 1181\u001b[0;31m             \u001b[0;32mfor\u001b[0m \u001b[0mobj\u001b[0m \u001b[0;32min\u001b[0m \u001b[0miterable\u001b[0m\u001b[0;34m:\u001b[0m\u001b[0;34m\u001b[0m\u001b[0;34m\u001b[0m\u001b[0m\n\u001b[0m\u001b[1;32m   1182\u001b[0m                 \u001b[0;32myield\u001b[0m \u001b[0mobj\u001b[0m\u001b[0;34m\u001b[0m\u001b[0;34m\u001b[0m\u001b[0m\n\u001b[1;32m   1183\u001b[0m                 \u001b[0;31m# Update and possibly print the progressbar.\u001b[0m\u001b[0;34m\u001b[0m\u001b[0;34m\u001b[0m\u001b[0m\n",
            "\u001b[0;32m/usr/local/lib/python3.10/dist-packages/torch/utils/data/dataloader.py\u001b[0m in \u001b[0;36m__next__\u001b[0;34m(self)\u001b[0m\n\u001b[1;32m    629\u001b[0m                 \u001b[0;31m# TODO(https://github.com/pytorch/pytorch/issues/76750)\u001b[0m\u001b[0;34m\u001b[0m\u001b[0;34m\u001b[0m\u001b[0m\n\u001b[1;32m    630\u001b[0m                 \u001b[0mself\u001b[0m\u001b[0;34m.\u001b[0m\u001b[0m_reset\u001b[0m\u001b[0;34m(\u001b[0m\u001b[0;34m)\u001b[0m  \u001b[0;31m# type: ignore[call-arg]\u001b[0m\u001b[0;34m\u001b[0m\u001b[0;34m\u001b[0m\u001b[0m\n\u001b[0;32m--> 631\u001b[0;31m             \u001b[0mdata\u001b[0m \u001b[0;34m=\u001b[0m \u001b[0mself\u001b[0m\u001b[0;34m.\u001b[0m\u001b[0m_next_data\u001b[0m\u001b[0;34m(\u001b[0m\u001b[0;34m)\u001b[0m\u001b[0;34m\u001b[0m\u001b[0;34m\u001b[0m\u001b[0m\n\u001b[0m\u001b[1;32m    632\u001b[0m             \u001b[0mself\u001b[0m\u001b[0;34m.\u001b[0m\u001b[0m_num_yielded\u001b[0m \u001b[0;34m+=\u001b[0m \u001b[0;36m1\u001b[0m\u001b[0;34m\u001b[0m\u001b[0;34m\u001b[0m\u001b[0m\n\u001b[1;32m    633\u001b[0m             \u001b[0;32mif\u001b[0m \u001b[0mself\u001b[0m\u001b[0;34m.\u001b[0m\u001b[0m_dataset_kind\u001b[0m \u001b[0;34m==\u001b[0m \u001b[0m_DatasetKind\u001b[0m\u001b[0;34m.\u001b[0m\u001b[0mIterable\u001b[0m \u001b[0;32mand\u001b[0m\u001b[0;31m \u001b[0m\u001b[0;31m\\\u001b[0m\u001b[0;34m\u001b[0m\u001b[0;34m\u001b[0m\u001b[0m\n",
            "\u001b[0;32m/usr/local/lib/python3.10/dist-packages/torch/utils/data/dataloader.py\u001b[0m in \u001b[0;36m_next_data\u001b[0;34m(self)\u001b[0m\n\u001b[1;32m    673\u001b[0m     \u001b[0;32mdef\u001b[0m \u001b[0m_next_data\u001b[0m\u001b[0;34m(\u001b[0m\u001b[0mself\u001b[0m\u001b[0;34m)\u001b[0m\u001b[0;34m:\u001b[0m\u001b[0;34m\u001b[0m\u001b[0;34m\u001b[0m\u001b[0m\n\u001b[1;32m    674\u001b[0m         \u001b[0mindex\u001b[0m \u001b[0;34m=\u001b[0m \u001b[0mself\u001b[0m\u001b[0;34m.\u001b[0m\u001b[0m_next_index\u001b[0m\u001b[0;34m(\u001b[0m\u001b[0;34m)\u001b[0m  \u001b[0;31m# may raise StopIteration\u001b[0m\u001b[0;34m\u001b[0m\u001b[0;34m\u001b[0m\u001b[0m\n\u001b[0;32m--> 675\u001b[0;31m         \u001b[0mdata\u001b[0m \u001b[0;34m=\u001b[0m \u001b[0mself\u001b[0m\u001b[0;34m.\u001b[0m\u001b[0m_dataset_fetcher\u001b[0m\u001b[0;34m.\u001b[0m\u001b[0mfetch\u001b[0m\u001b[0;34m(\u001b[0m\u001b[0mindex\u001b[0m\u001b[0;34m)\u001b[0m  \u001b[0;31m# may raise StopIteration\u001b[0m\u001b[0;34m\u001b[0m\u001b[0;34m\u001b[0m\u001b[0m\n\u001b[0m\u001b[1;32m    676\u001b[0m         \u001b[0;32mif\u001b[0m \u001b[0mself\u001b[0m\u001b[0;34m.\u001b[0m\u001b[0m_pin_memory\u001b[0m\u001b[0;34m:\u001b[0m\u001b[0;34m\u001b[0m\u001b[0;34m\u001b[0m\u001b[0m\n\u001b[1;32m    677\u001b[0m             \u001b[0mdata\u001b[0m \u001b[0;34m=\u001b[0m \u001b[0m_utils\u001b[0m\u001b[0;34m.\u001b[0m\u001b[0mpin_memory\u001b[0m\u001b[0;34m.\u001b[0m\u001b[0mpin_memory\u001b[0m\u001b[0;34m(\u001b[0m\u001b[0mdata\u001b[0m\u001b[0;34m,\u001b[0m \u001b[0mself\u001b[0m\u001b[0;34m.\u001b[0m\u001b[0m_pin_memory_device\u001b[0m\u001b[0;34m)\u001b[0m\u001b[0;34m\u001b[0m\u001b[0;34m\u001b[0m\u001b[0m\n",
            "\u001b[0;32m/usr/local/lib/python3.10/dist-packages/torch/utils/data/_utils/fetch.py\u001b[0m in \u001b[0;36mfetch\u001b[0;34m(self, possibly_batched_index)\u001b[0m\n\u001b[1;32m     49\u001b[0m                 \u001b[0mdata\u001b[0m \u001b[0;34m=\u001b[0m \u001b[0mself\u001b[0m\u001b[0;34m.\u001b[0m\u001b[0mdataset\u001b[0m\u001b[0;34m.\u001b[0m\u001b[0m__getitems__\u001b[0m\u001b[0;34m(\u001b[0m\u001b[0mpossibly_batched_index\u001b[0m\u001b[0;34m)\u001b[0m\u001b[0;34m\u001b[0m\u001b[0;34m\u001b[0m\u001b[0m\n\u001b[1;32m     50\u001b[0m             \u001b[0;32melse\u001b[0m\u001b[0;34m:\u001b[0m\u001b[0;34m\u001b[0m\u001b[0;34m\u001b[0m\u001b[0m\n\u001b[0;32m---> 51\u001b[0;31m                 \u001b[0mdata\u001b[0m \u001b[0;34m=\u001b[0m \u001b[0;34m[\u001b[0m\u001b[0mself\u001b[0m\u001b[0;34m.\u001b[0m\u001b[0mdataset\u001b[0m\u001b[0;34m[\u001b[0m\u001b[0midx\u001b[0m\u001b[0;34m]\u001b[0m \u001b[0;32mfor\u001b[0m \u001b[0midx\u001b[0m \u001b[0;32min\u001b[0m \u001b[0mpossibly_batched_index\u001b[0m\u001b[0;34m]\u001b[0m\u001b[0;34m\u001b[0m\u001b[0;34m\u001b[0m\u001b[0m\n\u001b[0m\u001b[1;32m     52\u001b[0m         \u001b[0;32melse\u001b[0m\u001b[0;34m:\u001b[0m\u001b[0;34m\u001b[0m\u001b[0;34m\u001b[0m\u001b[0m\n\u001b[1;32m     53\u001b[0m             \u001b[0mdata\u001b[0m \u001b[0;34m=\u001b[0m \u001b[0mself\u001b[0m\u001b[0;34m.\u001b[0m\u001b[0mdataset\u001b[0m\u001b[0;34m[\u001b[0m\u001b[0mpossibly_batched_index\u001b[0m\u001b[0;34m]\u001b[0m\u001b[0;34m\u001b[0m\u001b[0;34m\u001b[0m\u001b[0m\n",
            "\u001b[0;32m/usr/local/lib/python3.10/dist-packages/torch/utils/data/_utils/fetch.py\u001b[0m in \u001b[0;36m<listcomp>\u001b[0;34m(.0)\u001b[0m\n\u001b[1;32m     49\u001b[0m                 \u001b[0mdata\u001b[0m \u001b[0;34m=\u001b[0m \u001b[0mself\u001b[0m\u001b[0;34m.\u001b[0m\u001b[0mdataset\u001b[0m\u001b[0;34m.\u001b[0m\u001b[0m__getitems__\u001b[0m\u001b[0;34m(\u001b[0m\u001b[0mpossibly_batched_index\u001b[0m\u001b[0;34m)\u001b[0m\u001b[0;34m\u001b[0m\u001b[0;34m\u001b[0m\u001b[0m\n\u001b[1;32m     50\u001b[0m             \u001b[0;32melse\u001b[0m\u001b[0;34m:\u001b[0m\u001b[0;34m\u001b[0m\u001b[0;34m\u001b[0m\u001b[0m\n\u001b[0;32m---> 51\u001b[0;31m                 \u001b[0mdata\u001b[0m \u001b[0;34m=\u001b[0m \u001b[0;34m[\u001b[0m\u001b[0mself\u001b[0m\u001b[0;34m.\u001b[0m\u001b[0mdataset\u001b[0m\u001b[0;34m[\u001b[0m\u001b[0midx\u001b[0m\u001b[0;34m]\u001b[0m \u001b[0;32mfor\u001b[0m \u001b[0midx\u001b[0m \u001b[0;32min\u001b[0m \u001b[0mpossibly_batched_index\u001b[0m\u001b[0;34m]\u001b[0m\u001b[0;34m\u001b[0m\u001b[0;34m\u001b[0m\u001b[0m\n\u001b[0m\u001b[1;32m     52\u001b[0m         \u001b[0;32melse\u001b[0m\u001b[0;34m:\u001b[0m\u001b[0;34m\u001b[0m\u001b[0;34m\u001b[0m\u001b[0m\n\u001b[1;32m     53\u001b[0m             \u001b[0mdata\u001b[0m \u001b[0;34m=\u001b[0m \u001b[0mself\u001b[0m\u001b[0;34m.\u001b[0m\u001b[0mdataset\u001b[0m\u001b[0;34m[\u001b[0m\u001b[0mpossibly_batched_index\u001b[0m\u001b[0;34m]\u001b[0m\u001b[0;34m\u001b[0m\u001b[0;34m\u001b[0m\u001b[0m\n",
            "\u001b[0;32m<ipython-input-9-f02ee236a12d>\u001b[0m in \u001b[0;36m__getitem__\u001b[0;34m(self, idx)\u001b[0m\n\u001b[1;32m     14\u001b[0m   \u001b[0;32mdef\u001b[0m \u001b[0m__getitem__\u001b[0m\u001b[0;34m(\u001b[0m\u001b[0mself\u001b[0m\u001b[0;34m,\u001b[0m \u001b[0midx\u001b[0m\u001b[0;34m)\u001b[0m\u001b[0;34m:\u001b[0m\u001b[0;34m\u001b[0m\u001b[0;34m\u001b[0m\u001b[0m\n\u001b[1;32m     15\u001b[0m \u001b[0;34m\u001b[0m\u001b[0m\n\u001b[0;32m---> 16\u001b[0;31m     \u001b[0mimg\u001b[0m\u001b[0;34m,\u001b[0m \u001b[0mtarget\u001b[0m \u001b[0;34m=\u001b[0m \u001b[0mnp\u001b[0m\u001b[0;34m.\u001b[0m\u001b[0marray\u001b[0m\u001b[0;34m(\u001b[0m\u001b[0mself\u001b[0m\u001b[0;34m.\u001b[0m\u001b[0mitems\u001b[0m\u001b[0;34m[\u001b[0m\u001b[0midx\u001b[0m\u001b[0;34m]\u001b[0m\u001b[0;34m.\u001b[0m\u001b[0mimage\u001b[0m\u001b[0;34m)\u001b[0m\u001b[0;34m.\u001b[0m\u001b[0mastype\u001b[0m\u001b[0;34m(\u001b[0m\u001b[0mnp\u001b[0m\u001b[0;34m.\u001b[0m\u001b[0muint8\u001b[0m\u001b[0;34m)\u001b[0m\u001b[0;34m,\u001b[0m \u001b[0mself\u001b[0m\u001b[0;34m.\u001b[0m\u001b[0mitems\u001b[0m\u001b[0;34m[\u001b[0m\u001b[0midx\u001b[0m\u001b[0;34m]\u001b[0m\u001b[0;34m.\u001b[0m\u001b[0mquadrangle\u001b[0m\u001b[0;34m\u001b[0m\u001b[0;34m\u001b[0m\u001b[0m\n\u001b[0m\u001b[1;32m     17\u001b[0m     \u001b[0mtarget\u001b[0m\u001b[0;34m[\u001b[0m\u001b[0;34m:\u001b[0m\u001b[0;34m,\u001b[0m \u001b[0;36m0\u001b[0m\u001b[0;34m]\u001b[0m \u001b[0;34m=\u001b[0m \u001b[0mnp\u001b[0m\u001b[0;34m.\u001b[0m\u001b[0mclip\u001b[0m\u001b[0;34m(\u001b[0m\u001b[0mtarget\u001b[0m\u001b[0;34m[\u001b[0m\u001b[0;34m:\u001b[0m\u001b[0;34m,\u001b[0m \u001b[0;36m0\u001b[0m\u001b[0;34m]\u001b[0m\u001b[0;34m,\u001b[0m \u001b[0;36m0\u001b[0m\u001b[0;34m,\u001b[0m \u001b[0;36m1\u001b[0m\u001b[0;34m)\u001b[0m\u001b[0;34m\u001b[0m\u001b[0;34m\u001b[0m\u001b[0m\n\u001b[1;32m     18\u001b[0m     \u001b[0mtarget\u001b[0m\u001b[0;34m[\u001b[0m\u001b[0;34m:\u001b[0m\u001b[0;34m,\u001b[0m \u001b[0;36m1\u001b[0m\u001b[0;34m]\u001b[0m \u001b[0;34m=\u001b[0m \u001b[0mnp\u001b[0m\u001b[0;34m.\u001b[0m\u001b[0mclip\u001b[0m\u001b[0;34m(\u001b[0m\u001b[0mtarget\u001b[0m\u001b[0;34m[\u001b[0m\u001b[0;34m:\u001b[0m\u001b[0;34m,\u001b[0m \u001b[0;36m1\u001b[0m\u001b[0;34m]\u001b[0m\u001b[0;34m,\u001b[0m \u001b[0;36m0\u001b[0m\u001b[0;34m,\u001b[0m \u001b[0;36m1\u001b[0m\u001b[0;34m)\u001b[0m\u001b[0;34m\u001b[0m\u001b[0;34m\u001b[0m\u001b[0m\n",
            "\u001b[0;31mKeyboardInterrupt\u001b[0m: "
          ]
        }
      ]
    },
    {
      "cell_type": "code",
      "source": [
        "torch.save(model.state_dict(), './model.pth')"
      ],
      "metadata": {
        "id": "a38elEEtkR7K"
      },
      "execution_count": 349,
      "outputs": []
    },
    {
      "cell_type": "code",
      "source": [
        "it = iter(test_dataloader)"
      ],
      "metadata": {
        "id": "E2f03qq9tln_"
      },
      "execution_count": 49,
      "outputs": []
    },
    {
      "cell_type": "code",
      "source": [
        "model.eval()\n",
        "with torch.no_grad():\n",
        "  res = model(next(it)[0].cuda())[0]\n",
        "  plt.imshow(res.permute(1, 2, 0).cpu().detach().numpy())"
      ],
      "metadata": {
        "colab": {
          "base_uri": "https://localhost:8080/",
          "height": 435
        },
        "id": "bTKfN98jrgrl",
        "outputId": "f5dd5392-fbef-41c2-f166-3736b7ec9946"
      },
      "execution_count": 335,
      "outputs": [
        {
          "output_type": "display_data",
          "data": {
            "text/plain": [
              "<Figure size 640x480 with 1 Axes>"
            ],
            "image/png": "[encoded data removed]"
          },
          "metadata": {}
        }
      ]
    },
    {
      "cell_type": "code",
      "source": [
        "res[res > 0.005] = 1\n",
        "res[res < 0.005] = 0\n",
        "plt.imshow(res.permute(1, 2, 0).cpu().detach().numpy())"
      ],
      "metadata": {
        "colab": {
          "base_uri": "https://localhost:8080/",
          "height": 452
        },
        "id": "ghVZSY90tFZO",
        "outputId": "5e69f684-ed04-449d-fcf2-a5ebcd62438c"
      },
      "execution_count": 336,
      "outputs": [
        {
          "output_type": "execute_result",
          "data": {
            "text/plain": [
              "<matplotlib.image.AxesImage at 0x7f7063c11e40>"
            ]
          },
          "metadata": {},
          "execution_count": 336
        },
        {
          "output_type": "display_data",
          "data": {
            "text/plain": [
              "<Figure size 640x480 with 1 Axes>"
            ],
            "image/png": "[encoded data removed]"
          },
          "metadata": {}
        }
      ]
    },
    {
      "cell_type": "markdown",
      "source": [
        "# Нахождение точек"
      ],
      "metadata": {
        "id": "aZhxXg0krqo2"
      }
    },
    {
      "cell_type": "code",
      "source": [
        "from sklearn.cluster import KMeans\n",
        "\n",
        "def get_points(arr):\n",
        "  input = np.where(arr==1)\n",
        "  peak_points = np.column_stack(input)\n",
        "  kmeans = KMeans(n_clusters=4, n_init=50)\n",
        "  kmeans.fit(peak_points)\n",
        "\n",
        "  return (kmeans.cluster_centers_ / 255.)[:, :2]"
      ],
      "metadata": {
        "id": "FLUv1iUnuytX"
      },
      "execution_count": 333,
      "outputs": []
    },
    {
      "cell_type": "code",
      "source": [
        "get_points(res.detach().cpu().numpy()[0])"
      ],
      "metadata": {
        "colab": {
          "base_uri": "https://localhost:8080/"
        },
        "id": "mg9XieMMs3e1",
        "outputId": "1a88f924-dd58-4259-a81d-ead4d907a355"
      },
      "execution_count": 337,
      "outputs": [
        {
          "output_type": "execute_result",
          "data": {
            "text/plain": [
              "array([[0.54463668, 0.05259516],\n",
              "       [0.63485839, 0.8795207 ],\n",
              "       [0.33882353, 0.97490196],\n",
              "       [0.26431373, 0.16235294]])"
            ]
          },
          "metadata": {},
          "execution_count": 337
        }
      ]
    },
    {
      "cell_type": "markdown",
      "source": [
        "# Костыль\n",
        "\n",
        "мы получаем только сами точки, но нужно еще чтобы они шли в нужном порядке, напишем наивную функцию которая отсортирует в нужном порядке"
      ],
      "metadata": {
        "id": "GbRSVh1ADg5k"
      }
    },
    {
      "cell_type": "code",
      "source": [
        "import numpy as np\n",
        "\n",
        "def sort_points(points):\n",
        "    center = points.mean(axis=0)\n",
        "\n",
        "    output = np.zeros_like(points)\n",
        "    for i in range(len(points)):\n",
        "      if points[i][0] - center[0] < 0 and points[i][1] - center[1] < 0:\n",
        "        output[0] = points[i]\n",
        "      elif points[i][0] - center[0] > 0 and points[i][1] - center[1] < 0:\n",
        "        output[1] = points[i]\n",
        "      elif points[i][0] - center[0] > 0 and points[i][1] - center[1] > 0:\n",
        "        output[2] = points[i]\n",
        "      elif points[i][0] - center[0] < 0 and points[i][1] - center[1] > 0:\n",
        "        output[3] = points[i]\n",
        "    return output.tolist()\n",
        "\n"
      ],
      "metadata": {
        "id": "6DDePEvdDtoY"
      },
      "execution_count": 338,
      "outputs": []
    },
    {
      "cell_type": "markdown",
      "source": [
        "# Итого, финальный пайплайн"
      ],
      "metadata": {
        "id": "VxbiD60a3TOU"
      }
    },
    {
      "cell_type": "code",
      "source": [
        "def get_res(image):\n",
        "  image = np.array(image).astype(np.uint8)\n",
        "  image = torch.tensor(test_transform(image=image, keypoints=np.random.rand(4, 2))['image'])\n",
        "  image = image.permute(2, 0, 1)\n",
        "  model.eval()\n",
        "  with torch.no_grad():\n",
        "    res = model(image.float().cuda().unsqueeze(0))\n",
        "\n",
        "  res[res > 0.001] = 1\n",
        "  res[res < 0.001] = 0\n",
        "\n",
        "  return sort_points(get_points(res.detach().cpu().numpy()[0, 0])[:, ::-1])"
      ],
      "metadata": {
        "id": "C_W8j9Hv3XUC"
      },
      "execution_count": 341,
      "outputs": []
    },
    {
      "cell_type": "code",
      "source": [
        "data_packs[21][0].quadrangle"
      ],
      "metadata": {
        "colab": {
          "base_uri": "https://localhost:8080/"
        },
        "id": "TZiwiSAWO1s_",
        "outputId": "bb863fe6-48ca-45b8-b437-93b20f5201b5"
      },
      "execution_count": 342,
      "outputs": [
        {
          "output_type": "execute_result",
          "data": {
            "text/plain": [
              "array([[0.18888889, 0.27916667],\n",
              "       [0.94814815, 0.38854167],\n",
              "       [0.82685185, 0.65989583],\n",
              "       [0.06296296, 0.54635417]])"
            ]
          },
          "metadata": {},
          "execution_count": 342
        }
      ]
    },
    {
      "cell_type": "code",
      "source": [
        "get_res(data_packs[21][0].image)"
      ],
      "metadata": {
        "colab": {
          "base_uri": "https://localhost:8080/"
        },
        "id": "zLeXmrEb5klu",
        "outputId": "2ddb3459-a8b0-4f0b-e26a-c56bc69eb804"
      },
      "execution_count": 346,
      "outputs": [
        {
          "output_type": "execute_result",
          "data": {
            "text/plain": [
              "[[0.18672170622635026, 0.27829377364981106],\n",
              " [0.9467320261437911, 0.3847712418300654],\n",
              " [0.8264559555165351, 0.6576529119110335],\n",
              " [0.058350236646383086, 0.5437457741717376]]"
            ]
          },
          "metadata": {},
          "execution_count": 346
        }
      ]
    },
    {
      "cell_type": "markdown",
      "source": [
        "# Получим результат"
      ],
      "metadata": {
        "id": "C2phADuc3wi7"
      }
    },
    {
      "cell_type": "code",
      "source": [
        "import warnings\n",
        "warnings.filterwarnings(\"ignore\")\n",
        "\n",
        "res_dict = dict()\n",
        "\n",
        "for dp in tqdm(data_packs):\n",
        "    for i in range(len(dp)):\n",
        "        if dp[i].is_test_split():\n",
        "              with torch.no_grad():\n",
        "                  res = get_res(dp[i].image)\n",
        "              res_dict[dp[i].unique_key] = res"
      ],
      "metadata": {
        "colab": {
          "base_uri": "https://localhost:8080/"
        },
        "id": "kE3IKVvu1gNZ",
        "outputId": "7cd6d9d3-8bc0-4083-9d7c-882e5c73b10d"
      },
      "execution_count": 347,
      "outputs": [
        {
          "output_type": "stream",
          "name": "stderr",
          "text": [
            "100%|██████████| 50/50 [09:29<00:00, 11.39s/it]\n"
          ]
        }
      ]
    },
    {
      "cell_type": "code",
      "source": [
        "dump_results_dict(res_dict, 'res.json')\n",
        "acc = measure_crop_accuracy(\n",
        "    './res.json',\n",
        "    './gt.json'\n",
        ")\n",
        "print(\"Точность кропа: {:1.4f}\".format(acc))"
      ],
      "metadata": {
        "colab": {
          "base_uri": "https://localhost:8080/"
        },
        "id": "b29O_YDn9eeS",
        "outputId": "1fdc848f-2bca-4df8-ba6d-d9d5b97ddf15"
      },
      "execution_count": 348,
      "outputs": [
        {
          "output_type": "stream",
          "name": "stdout",
          "text": [
            "Точность кропа: 0.8294\n"
          ]
        }
      ]
    },
    {
      "cell_type": "code",
      "source": [],
      "metadata": {
        "id": "ZxjLoafe-5Yv"
      },
      "execution_count": null,
      "outputs": []
    }
  ],
  "metadata": {
    "accelerator": "GPU",
    "colab": {
      "gpuType": "A100",
      "provenance": [],
      "machine_shape": "hm"
    },
    "kernelspec": {
      "display_name": "Python 3",
      "name": "python3"
    },
    "language_info": {
      "name": "python"
    }
  },
  "nbformat": 4,
  "nbformat_minor": 0
}